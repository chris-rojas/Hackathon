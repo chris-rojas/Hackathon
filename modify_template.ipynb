{
 "cells": [
  {
   "cell_type": "code",
   "execution_count": 49,
   "id": "66434406-6da8-4e03-a5ad-3db4168e0784",
   "metadata": {},
   "outputs": [],
   "source": [
    "import pandas as pd\n",
    "import datetime as dt\n",
    "from pptx import Presentation\n",
    "from pptx.util import Inches"
   ]
  },
  {
   "cell_type": "code",
   "execution_count": 78,
   "id": "4e061c03-da54-4881-8818-324a15579796",
   "metadata": {},
   "outputs": [],
   "source": [
    "company_name = \"Apple\"\n",
    "date = dt.date.today().strftime(\"%Y-%m-%d\")"
   ]
  },
  {
   "cell_type": "code",
   "execution_count": 79,
   "id": "f5ba7a2e-3dd4-47df-b1ea-d92e2a38df06",
   "metadata": {},
   "outputs": [],
   "source": [
    "prs = Presentation(\"UI//template_barclays.pptx\")"
   ]
  },
  {
   "cell_type": "code",
   "execution_count": 80,
   "id": "62d82353-6d7c-4eb6-9eee-6ee4ddcd6679",
   "metadata": {},
   "outputs": [
    {
     "data": {
      "text/plain": [
       "(0, 17)"
      ]
     },
     "execution_count": 80,
     "metadata": {},
     "output_type": "execute_result"
    }
   ],
   "source": [
    "len(prs.slides), len(prs.slide_layouts)"
   ]
  },
  {
   "cell_type": "markdown",
   "id": "5d31e3be-0bce-43b5-8651-5487fc2fe1ec",
   "metadata": {},
   "source": [
    "Add title slide"
   ]
  },
  {
   "cell_type": "code",
   "execution_count": 102,
   "id": "a7249f92-eca0-4612-8e1b-48ee663e003c",
   "metadata": {},
   "outputs": [],
   "source": [
    "title_slide_layout = prs.slide_layouts[8]\n",
    "title_slide = prs.slides.add_slide(title_slide_layout)"
   ]
  },
  {
   "cell_type": "code",
   "execution_count": 103,
   "id": "0f8bbad8-d034-4812-bef0-ee56fc518a28",
   "metadata": {},
   "outputs": [
    {
     "name": "stdout",
     "output_type": "stream",
     "text": [
      "0 Title 1\n",
      "10 Text Placeholder 2\n"
     ]
    }
   ],
   "source": [
    "for shape in title_slide.placeholders:\n",
    "    print('%d %s' % (shape.placeholder_format.idx, shape.name))"
   ]
  },
  {
   "cell_type": "code",
   "execution_count": 95,
   "id": "2de01f4f-5400-4f12-8f3e-e74a24da7627",
   "metadata": {},
   "outputs": [
    {
     "ename": "TypeError",
     "evalue": "%d format: a real number is required, not str",
     "output_type": "error",
     "traceback": [
      "\u001b[0;31m---------------------------------------------------------------------------\u001b[0m",
      "\u001b[0;31mTypeError\u001b[0m                                 Traceback (most recent call last)",
      "Cell \u001b[0;32mIn[95], line 1\u001b[0m\n\u001b[0;32m----> 1\u001b[0m title_slide\u001b[38;5;241m.\u001b[39mplaceholders[\u001b[38;5;124m\"\u001b[39m\u001b[38;5;124mTitle\u001b[39m\u001b[38;5;124m\"\u001b[39m]\n",
      "File \u001b[0;32m/opt/anaconda3/envs/hackathon_venv/lib/python3.12/site-packages/pptx/shapes/shapetree.py:791\u001b[0m, in \u001b[0;36mSlidePlaceholders.__getitem__\u001b[0;34m(self, idx)\u001b[0m\n\u001b[1;32m    789\u001b[0m     \u001b[38;5;28;01mif\u001b[39;00m e\u001b[38;5;241m.\u001b[39mph_idx \u001b[38;5;241m==\u001b[39m idx:\n\u001b[1;32m    790\u001b[0m         \u001b[38;5;28;01mreturn\u001b[39;00m SlideShapeFactory(e, \u001b[38;5;28mself\u001b[39m)\n\u001b[0;32m--> 791\u001b[0m \u001b[38;5;28;01mraise\u001b[39;00m \u001b[38;5;167;01mKeyError\u001b[39;00m(\u001b[38;5;124m\"\u001b[39m\u001b[38;5;124mno placeholder on this slide with idx == \u001b[39m\u001b[38;5;132;01m%d\u001b[39;00m\u001b[38;5;124m\"\u001b[39m \u001b[38;5;241m%\u001b[39m idx)\n",
      "\u001b[0;31mTypeError\u001b[0m: %d format: a real number is required, not str"
     ]
    }
   ],
   "source": []
  },
  {
   "cell_type": "code",
   "execution_count": 83,
   "id": "3e6683b9-5178-4327-ae22-c07aa7ff162b",
   "metadata": {},
   "outputs": [
    {
     "data": {
      "text/plain": [
       "2"
      ]
     },
     "execution_count": 83,
     "metadata": {},
     "output_type": "execute_result"
    }
   ],
   "source": [
    "len(title_slide.shapes)"
   ]
  },
  {
   "cell_type": "code",
   "execution_count": 56,
   "id": "9878a944-1c93-4c94-ae4c-cef50264a12e",
   "metadata": {},
   "outputs": [],
   "source": [
    "company_name_text_frame = title_slide.shapes[0].text_frame\n",
    "company_name_text_frame.text = company_name\n",
    "\n",
    "date_text_frame = title_slide.shapes[1].text_frame\n",
    "date_text_frame.text = date"
   ]
  },
  {
   "cell_type": "markdown",
   "id": "8aeae7d4-f115-4395-bf2b-955ad637a1f2",
   "metadata": {},
   "source": [
    "Financials slide"
   ]
  },
  {
   "cell_type": "code",
   "execution_count": 66,
   "id": "386e20bf-0dc1-4dae-91b9-9420144fe3a0",
   "metadata": {},
   "outputs": [],
   "source": [
    "financials_slide_layout = prs.slide_layouts[15]\n",
    "financials_slide = prs.slides.add_slide(financials_slide_layout)"
   ]
  },
  {
   "cell_type": "code",
   "execution_count": 77,
   "id": "05fbd127-cfac-4aa3-92c3-83f4e0c04998",
   "metadata": {},
   "outputs": [
    {
     "data": {
      "text/plain": [
       "<pptx.shapes.shapetree.SlidePlaceholders at 0x15a521640>"
      ]
     },
     "execution_count": 77,
     "metadata": {},
     "output_type": "execute_result"
    }
   ],
   "source": [
    "financials_slide.placeholders"
   ]
  },
  {
   "cell_type": "code",
   "execution_count": 59,
   "id": "645163f6-3d62-4253-bf21-6db77fda3a75",
   "metadata": {},
   "outputs": [],
   "source": [
    "# Would be better if a 1-sentence summary of the financials could be used for title\n",
    "financials_slide_title_text_frame = financials_slide.shapes[0].text_frame\n",
    "financials_slide_title_text_frame.text = f\"Financials - {company_name}\""
   ]
  },
  {
   "cell_type": "code",
   "execution_count": 60,
   "id": "201f20b2-8685-4ce9-ab45-8d317e3da53d",
   "metadata": {},
   "outputs": [
    {
     "data": {
      "text/plain": [
       "<pptx.shapes.picture.Picture at 0x1313ad1f0>"
      ]
     },
     "execution_count": 60,
     "metadata": {},
     "output_type": "execute_result"
    }
   ],
   "source": [
    "# Next add chart (as saved image) to financials portion of slide\n",
    "chart_path = \"UI//result//bar_chart.png\"\n",
    "x, y, width = Inches(6.0), Inches(2.0), Inches(4)\n",
    "financials_slide.shapes.add_picture(chart_path, x, y, width=width)"
   ]
  },
  {
   "cell_type": "code",
   "execution_count": 61,
   "id": "4199b2c7-f03c-4c60-bb1f-34bd673b479d",
   "metadata": {},
   "outputs": [],
   "source": [
    "# Next add table to financials portion of slide\n",
    "# Fake table\n",
    "data = {\n",
    "    \"Region\": [\"North America\", \"Europe\", \"Asia\"],\n",
    "    \"Revenue\": [120000, 85000, 100000],\n",
    "    \"Profit\": [20000, 15000, 18000]\n",
    "}\n",
    "df = pd.DataFrame(data)\n",
    "rows, cols = df.shape\n",
    "x, y, cx, cy = Inches(2), Inches(2), Inches(4), Inches(1.5)\n",
    "\n",
    "shape = financials_slide.shapes.add_table(rows, cols, x, y, cx, cy)\n",
    "\n",
    "#table = shape.table\n",
    "# Iterate over pandas df and add data"
   ]
  },
  {
   "cell_type": "code",
   "execution_count": 62,
   "id": "afc446e9-2ba3-4038-98af-47c3b480052a",
   "metadata": {},
   "outputs": [],
   "source": [
    "# # Use if you need to explore all the slides in the template\n",
    "# for i in range(len(prs.slide_layouts)):\n",
    "#     slide_layout = prs.slide_layouts[i]\n",
    "#     slide = prs.slides.add_slide(slide_layout)"
   ]
  },
  {
   "cell_type": "code",
   "execution_count": 63,
   "id": "df5165be-5930-4f3d-8f8b-b4199e0546f0",
   "metadata": {},
   "outputs": [],
   "source": [
    "prs.save(\"UI//test_slide.pptx\")"
   ]
  },
  {
   "cell_type": "code",
   "execution_count": 64,
   "id": "4a652222-3330-4e96-bf63-04ab56d23fdf",
   "metadata": {},
   "outputs": [],
   "source": [
    "# Make this on Barclays computer now, take the actual template and get the slides\n",
    "# Then make a title slide, overview slide, financials slide, geography, and management slide\n",
    "# Mention how we want check boxes in to determine the iteration, so add checkboxes"
   ]
  },
  {
   "cell_type": "code",
   "execution_count": null,
   "id": "7a3e9795-95ea-4047-95da-0a417527474d",
   "metadata": {},
   "outputs": [],
   "source": []
  }
 ],
 "metadata": {
  "kernelspec": {
   "display_name": "Python 3 (ipykernel)",
   "language": "python",
   "name": "python3"
  },
  "language_info": {
   "codemirror_mode": {
    "name": "ipython",
    "version": 3
   },
   "file_extension": ".py",
   "mimetype": "text/x-python",
   "name": "python",
   "nbconvert_exporter": "python",
   "pygments_lexer": "ipython3",
   "version": "3.12.7"
  }
 },
 "nbformat": 4,
 "nbformat_minor": 5
}
